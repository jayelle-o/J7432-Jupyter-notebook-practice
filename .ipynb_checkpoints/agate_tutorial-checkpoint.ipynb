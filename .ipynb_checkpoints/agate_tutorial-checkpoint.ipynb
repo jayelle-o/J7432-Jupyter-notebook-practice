{
 "cells": [
  {
   "cell_type": "code",
   "execution_count": 4,
   "metadata": {
    "collapsed": true
   },
   "outputs": [],
   "source": [
    "import agate"
   ]
  },
  {
   "cell_type": "code",
   "execution_count": 6,
   "metadata": {
    "collapsed": false
   },
   "outputs": [
    {
     "name": "stdout",
     "output_type": "stream",
     "text": [
      "|----------------------+---------------|\n",
      "|  column_names        | column_types  |\n",
      "|----------------------+---------------|\n",
      "|  last_name           | Text          |\n",
      "|  first_name          | Text          |\n",
      "|  age                 | Number        |\n",
      "|  race                | Text          |\n",
      "|  state               | Text          |\n",
      "|  tags                | Text          |\n",
      "|  crime               | Text          |\n",
      "|  sentence            | Text          |\n",
      "|  convicted           | Number        |\n",
      "|  exonerated          | Number        |\n",
      "|  dna                 | Boolean       |\n",
      "|  dna_essential       | Text          |\n",
      "|  mistake_witness     | Boolean       |\n",
      "|  false_confession    | Boolean       |\n",
      "|  perjury             | Boolean       |\n",
      "|  false_evidence      | Boolean       |\n",
      "|  official_misconduct | Boolean       |\n",
      "|  inadequate_defense  | Boolean       |\n",
      "|----------------------+---------------|\n",
      "\n"
     ]
    }
   ],
   "source": [
    "exonerations = agate.Table.from_csv('exonerations-20150828.csv')\n",
    "\n",
    "print exonerations"
   ]
  },
  {
   "cell_type": "code",
   "execution_count": 12,
   "metadata": {
    "collapsed": false
   },
   "outputs": [
    {
     "name": "stdout",
     "output_type": "stream",
     "text": [
      "<agate.Column: (u'Abbitt', u'Abdal', u'Abernathy', u'Acero', u'Adams', ...)>\n"
     ]
    }
   ],
   "source": [
    "for i in range (0,18)\n",
    "print exonerations.columns['i']"
   ]
  }
 ],
 "metadata": {
  "kernelspec": {
   "display_name": "Python 2",
   "language": "python",
   "name": "python2"
  },
  "language_info": {
   "codemirror_mode": {
    "name": "ipython",
    "version": 2
   },
   "file_extension": ".py",
   "mimetype": "text/x-python",
   "name": "python",
   "nbconvert_exporter": "python",
   "pygments_lexer": "ipython2",
   "version": "2.7.11"
  }
 },
 "nbformat": 4,
 "nbformat_minor": 0
}
